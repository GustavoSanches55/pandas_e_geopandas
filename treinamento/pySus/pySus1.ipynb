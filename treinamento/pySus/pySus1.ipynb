{
  "nbformat": 4,
  "nbformat_minor": 0,
  "metadata": {
    "colab": {
      "name": "pySus1.ipynb",
      "provenance": []
    },
    "kernelspec": {
      "name": "python3",
      "display_name": "Python 3"
    },
    "language_info": {
      "name": "python"
    }
  },
  "cells": [
    {
      "cell_type": "code",
      "metadata": {
        "id": "efcpNLXKyc7U"
      },
      "source": [
        "pip install pysus"
      ],
      "execution_count": null,
      "outputs": []
    },
    {
      "cell_type": "code",
      "metadata": {
        "id": "-nOTXshhye6w"
      },
      "source": [
        "from pysus.online_data import SINAN\n",
        "import pandas as pd\n",
        "import matplotlib.pyplot as plt"
      ],
      "execution_count": 10,
      "outputs": []
    },
    {
      "cell_type": "code",
      "metadata": {
        "colab": {
          "base_uri": "https://localhost:8080/"
        },
        "id": "GQnkP75_y5CB",
        "outputId": "fbd24edf-2435-4ba9-97f9-69267af4150c"
      },
      "source": [
        "SINAN.list_diseases()"
      ],
      "execution_count": 4,
      "outputs": [
        {
          "output_type": "execute_result",
          "data": {
            "text/plain": [
              "['Animais Peçonhentos',\n",
              " 'Botulismo',\n",
              " 'Chagas',\n",
              " 'Colera',\n",
              " 'Coqueluche',\n",
              " 'Dengue',\n",
              " 'Difteria',\n",
              " 'Esquistossomose',\n",
              " 'Febre Amarela',\n",
              " 'Febre Maculosa',\n",
              " 'Febre Tifoide',\n",
              " 'Hanseniase',\n",
              " 'Hantavirose',\n",
              " 'Hepatites Virais',\n",
              " 'Intoxicação Exógena',\n",
              " 'Leishmaniose Visceral',\n",
              " 'Leptospirose',\n",
              " 'Leishmaniose Tegumentar',\n",
              " 'Malaria',\n",
              " 'Meningite',\n",
              " 'Peste',\n",
              " 'Poliomielite',\n",
              " 'Raiva Humana',\n",
              " 'Tétano Acidental',\n",
              " 'Tétano Neonatal',\n",
              " 'Tuberculose',\n",
              " 'Violência Domestica']"
            ]
          },
          "metadata": {
            "tags": []
          },
          "execution_count": 4
        }
      ]
    },
    {
      "cell_type": "code",
      "metadata": {
        "colab": {
          "base_uri": "https://localhost:8080/"
        },
        "id": "CbENQIL9zFmC",
        "outputId": "bf923fed-bec8-4adb-ed89-a2d2cff17464"
      },
      "source": [
        "SINAN.get_available_years('SP', 'Malaria')"
      ],
      "execution_count": 7,
      "outputs": [
        {
          "output_type": "execute_result",
          "data": {
            "text/plain": [
              "['MALASP07.dbc',\n",
              " 'MALASP08.dbc',\n",
              " 'MALASP09.dbc',\n",
              " 'MALASP10.dbc',\n",
              " 'MALASP11.dbc',\n",
              " 'MALASP12.dbc',\n",
              " 'MALASP13.dbc',\n",
              " 'MALASP14.dbc',\n",
              " 'MALASP15.dbc',\n",
              " 'MALASP16.dbc',\n",
              " 'MALASP17.dbc']"
            ]
          },
          "metadata": {
            "tags": []
          },
          "execution_count": 7
        }
      ]
    },
    {
      "cell_type": "code",
      "metadata": {
        "colab": {
          "base_uri": "https://localhost:8080/",
          "height": 428
        },
        "id": "Okm3AVq1zTqE",
        "outputId": "13633ef2-5065-4408-f41c-1a06ff198559"
      },
      "source": [
        "df = SINAN.download('SP',2017,'Malaria')\n",
        "df.head()"
      ],
      "execution_count": 8,
      "outputs": [
        {
          "output_type": "stream",
          "text": [
            "/usr/local/lib/python3.7/dist-packages/pysus/online_data/SINAN.py:89: UserWarning: this is an initial implementation of Parquet/Feather file support and associated metadata.  This is tracking version 0.1.0 of the metadata specification at https://github.com/geopandas/geo-arrow-spec\n",
            "\n",
            "This metadata specification does not yet make stability promises.  We do not yet recommend using this in a production setting unless you are able to rewrite your Parquet/Feather files.\n",
            "\n",
            "To further ignore this warning, you can do: \n",
            "import warnings; warnings.filterwarnings('ignore', message='.*initial implementation of Parquet.*')\n",
            "  df.to_parquet(cachefile)\n"
          ],
          "name": "stderr"
        },
        {
          "output_type": "execute_result",
          "data": {
            "text/html": [
              "<div>\n",
              "<style scoped>\n",
              "    .dataframe tbody tr th:only-of-type {\n",
              "        vertical-align: middle;\n",
              "    }\n",
              "\n",
              "    .dataframe tbody tr th {\n",
              "        vertical-align: top;\n",
              "    }\n",
              "\n",
              "    .dataframe thead th {\n",
              "        text-align: right;\n",
              "    }\n",
              "</style>\n",
              "<table border=\"1\" class=\"dataframe\">\n",
              "  <thead>\n",
              "    <tr style=\"text-align: right;\">\n",
              "      <th></th>\n",
              "      <th>TP_NOT</th>\n",
              "      <th>ID_AGRAVO</th>\n",
              "      <th>DT_NOTIFIC</th>\n",
              "      <th>SEM_NOT</th>\n",
              "      <th>NU_ANO</th>\n",
              "      <th>SG_UF_NOT</th>\n",
              "      <th>ID_MUNICIP</th>\n",
              "      <th>ID_REGIONA</th>\n",
              "      <th>ID_UNIDADE</th>\n",
              "      <th>DT_SIN_PRI</th>\n",
              "      <th>SEM_PRI</th>\n",
              "      <th>DT_NASC</th>\n",
              "      <th>NU_IDADE_N</th>\n",
              "      <th>CS_SEXO</th>\n",
              "      <th>CS_GESTANT</th>\n",
              "      <th>CS_RACA</th>\n",
              "      <th>CS_ESCOL_N</th>\n",
              "      <th>SG_UF</th>\n",
              "      <th>ID_MN_RESI</th>\n",
              "      <th>ID_RG_RESI</th>\n",
              "      <th>ID_PAIS</th>\n",
              "      <th>DT_INVEST</th>\n",
              "      <th>ID_OCUPA_N</th>\n",
              "      <th>CLASSI_FIN</th>\n",
              "      <th>AT_ATIVIDA</th>\n",
              "      <th>AT_LAMINA</th>\n",
              "      <th>AT_SINTOMA</th>\n",
              "      <th>TPAUTOCTO</th>\n",
              "      <th>COUFINF</th>\n",
              "      <th>COPAISINF</th>\n",
              "      <th>COMUNINF</th>\n",
              "      <th>LOC_INF</th>\n",
              "      <th>DEXAME</th>\n",
              "      <th>RESULT</th>\n",
              "      <th>PMM</th>\n",
              "      <th>PCRUZ</th>\n",
              "      <th>TRA_ESQUEM</th>\n",
              "      <th>DSTRAESQUE</th>\n",
              "      <th>DTRATA</th>\n",
              "      <th>DT_ENCERRA</th>\n",
              "    </tr>\n",
              "  </thead>\n",
              "  <tbody>\n",
              "    <tr>\n",
              "      <th>0</th>\n",
              "      <td>2</td>\n",
              "      <td>B54</td>\n",
              "      <td>2017-01-04</td>\n",
              "      <td>201701</td>\n",
              "      <td>2017</td>\n",
              "      <td>35</td>\n",
              "      <td>355580</td>\n",
              "      <td>1574</td>\n",
              "      <td>2073250</td>\n",
              "      <td>2016-12-28</td>\n",
              "      <td>201652</td>\n",
              "      <td>1974-12-22</td>\n",
              "      <td>4042</td>\n",
              "      <td>M</td>\n",
              "      <td>6</td>\n",
              "      <td>1</td>\n",
              "      <td>05</td>\n",
              "      <td>35</td>\n",
              "      <td>355580</td>\n",
              "      <td>1574</td>\n",
              "      <td>1</td>\n",
              "      <td>None</td>\n",
              "      <td>782505</td>\n",
              "      <td>1</td>\n",
              "      <td>10</td>\n",
              "      <td>1</td>\n",
              "      <td>1</td>\n",
              "      <td>2</td>\n",
              "      <td>AM</td>\n",
              "      <td>1</td>\n",
              "      <td>130170</td>\n",
              "      <td></td>\n",
              "      <td>2017-01-04</td>\n",
              "      <td>4</td>\n",
              "      <td>NaN</td>\n",
              "      <td>3</td>\n",
              "      <td>1</td>\n",
              "      <td></td>\n",
              "      <td>2017-01-04</td>\n",
              "      <td>None</td>\n",
              "    </tr>\n",
              "    <tr>\n",
              "      <th>1</th>\n",
              "      <td>2</td>\n",
              "      <td>B54</td>\n",
              "      <td>2017-01-05</td>\n",
              "      <td>201701</td>\n",
              "      <td>2017</td>\n",
              "      <td>35</td>\n",
              "      <td>354980</td>\n",
              "      <td>1354</td>\n",
              "      <td>2077396</td>\n",
              "      <td>2017-01-01</td>\n",
              "      <td>201701</td>\n",
              "      <td>1985-09-09</td>\n",
              "      <td>4031</td>\n",
              "      <td>M</td>\n",
              "      <td>6</td>\n",
              "      <td>1</td>\n",
              "      <td>03</td>\n",
              "      <td>35</td>\n",
              "      <td>353280</td>\n",
              "      <td>1354</td>\n",
              "      <td>1</td>\n",
              "      <td>None</td>\n",
              "      <td></td>\n",
              "      <td>2</td>\n",
              "      <td>4</td>\n",
              "      <td>2</td>\n",
              "      <td>1</td>\n",
              "      <td></td>\n",
              "      <td></td>\n",
              "      <td>0</td>\n",
              "      <td></td>\n",
              "      <td></td>\n",
              "      <td>2017-01-05</td>\n",
              "      <td>1</td>\n",
              "      <td>NaN</td>\n",
              "      <td></td>\n",
              "      <td></td>\n",
              "      <td></td>\n",
              "      <td>None</td>\n",
              "      <td>None</td>\n",
              "    </tr>\n",
              "    <tr>\n",
              "      <th>2</th>\n",
              "      <td>2</td>\n",
              "      <td>B54</td>\n",
              "      <td>2017-01-10</td>\n",
              "      <td>201702</td>\n",
              "      <td>2017</td>\n",
              "      <td>35</td>\n",
              "      <td>354140</td>\n",
              "      <td>1346</td>\n",
              "      <td>2755130</td>\n",
              "      <td>2016-10-10</td>\n",
              "      <td>201641</td>\n",
              "      <td>1977-11-25</td>\n",
              "      <td>4038</td>\n",
              "      <td>F</td>\n",
              "      <td>5</td>\n",
              "      <td>2</td>\n",
              "      <td>06</td>\n",
              "      <td>35</td>\n",
              "      <td>354140</td>\n",
              "      <td>1346</td>\n",
              "      <td>1</td>\n",
              "      <td>None</td>\n",
              "      <td></td>\n",
              "      <td>2</td>\n",
              "      <td>3</td>\n",
              "      <td>1</td>\n",
              "      <td>1</td>\n",
              "      <td></td>\n",
              "      <td></td>\n",
              "      <td>0</td>\n",
              "      <td></td>\n",
              "      <td></td>\n",
              "      <td>2017-01-10</td>\n",
              "      <td>1</td>\n",
              "      <td>NaN</td>\n",
              "      <td></td>\n",
              "      <td></td>\n",
              "      <td></td>\n",
              "      <td>None</td>\n",
              "      <td>None</td>\n",
              "    </tr>\n",
              "    <tr>\n",
              "      <th>3</th>\n",
              "      <td>2</td>\n",
              "      <td>B54</td>\n",
              "      <td>2017-01-10</td>\n",
              "      <td>201702</td>\n",
              "      <td>2017</td>\n",
              "      <td>35</td>\n",
              "      <td>351550</td>\n",
              "      <td>1574</td>\n",
              "      <td>2076047</td>\n",
              "      <td>2017-01-01</td>\n",
              "      <td>201701</td>\n",
              "      <td>1990-05-03</td>\n",
              "      <td>4026</td>\n",
              "      <td>F</td>\n",
              "      <td>5</td>\n",
              "      <td>1</td>\n",
              "      <td>04</td>\n",
              "      <td>35</td>\n",
              "      <td>351550</td>\n",
              "      <td>1574</td>\n",
              "      <td>1</td>\n",
              "      <td>None</td>\n",
              "      <td>632205</td>\n",
              "      <td>2</td>\n",
              "      <td>1</td>\n",
              "      <td>1</td>\n",
              "      <td>2</td>\n",
              "      <td></td>\n",
              "      <td></td>\n",
              "      <td>0</td>\n",
              "      <td></td>\n",
              "      <td></td>\n",
              "      <td>2017-01-10</td>\n",
              "      <td>1</td>\n",
              "      <td>NaN</td>\n",
              "      <td></td>\n",
              "      <td></td>\n",
              "      <td></td>\n",
              "      <td>None</td>\n",
              "      <td>None</td>\n",
              "    </tr>\n",
              "    <tr>\n",
              "      <th>4</th>\n",
              "      <td>2</td>\n",
              "      <td>B54</td>\n",
              "      <td>2017-01-11</td>\n",
              "      <td>201702</td>\n",
              "      <td>2017</td>\n",
              "      <td>35</td>\n",
              "      <td>355030</td>\n",
              "      <td>1331</td>\n",
              "      <td>2077477</td>\n",
              "      <td>2017-01-06</td>\n",
              "      <td>201701</td>\n",
              "      <td>2004-06-14</td>\n",
              "      <td>4012</td>\n",
              "      <td>M</td>\n",
              "      <td>6</td>\n",
              "      <td>2</td>\n",
              "      <td>09</td>\n",
              "      <td>35</td>\n",
              "      <td>355030</td>\n",
              "      <td>1331</td>\n",
              "      <td>1</td>\n",
              "      <td>None</td>\n",
              "      <td></td>\n",
              "      <td>2</td>\n",
              "      <td>99</td>\n",
              "      <td>1</td>\n",
              "      <td>1</td>\n",
              "      <td></td>\n",
              "      <td></td>\n",
              "      <td>0</td>\n",
              "      <td></td>\n",
              "      <td></td>\n",
              "      <td>2017-01-11</td>\n",
              "      <td>1</td>\n",
              "      <td>NaN</td>\n",
              "      <td></td>\n",
              "      <td></td>\n",
              "      <td></td>\n",
              "      <td>None</td>\n",
              "      <td>None</td>\n",
              "    </tr>\n",
              "  </tbody>\n",
              "</table>\n",
              "</div>"
            ],
            "text/plain": [
              "  TP_NOT ID_AGRAVO  DT_NOTIFIC  ... DSTRAESQUE      DTRATA DT_ENCERRA\n",
              "0      2       B54  2017-01-04  ...             2017-01-04       None\n",
              "1      2       B54  2017-01-05  ...                   None       None\n",
              "2      2       B54  2017-01-10  ...                   None       None\n",
              "3      2       B54  2017-01-10  ...                   None       None\n",
              "4      2       B54  2017-01-11  ...                   None       None\n",
              "\n",
              "[5 rows x 40 columns]"
            ]
          },
          "metadata": {
            "tags": []
          },
          "execution_count": 8
        }
      ]
    },
    {
      "cell_type": "code",
      "metadata": {
        "id": "cVFC1Th62T63"
      },
      "source": [
        "for columns in df.columns:\n",
        "    if columns.startswith(\"DT_\"):\n",
        "        df[columns] = df[columns].astype('datetime64[ns]')\n",
        "    elif columns == 'NU_ANO':\n",
        "        df[columns] = df[columns].astype(int)\n",
        "    elif columns == 'RESUL_HIS':\n",
        "        df[columns] = df[columns].astype(str)\n",
        "    else:\n",
        "        try:\n",
        "            df[columns] = df[columns].astype(int)\n",
        "        except:\n",
        "            try:\n",
        "                df[columns] = df[columns].astype(float)\n",
        "            except:\n",
        "                df[columns] = df[columns].astype(str)"
      ],
      "execution_count": 12,
      "outputs": []
    },
    {
      "cell_type": "code",
      "metadata": {
        "colab": {
          "base_uri": "https://localhost:8080/"
        },
        "id": "UYJPsXrSzlSF",
        "outputId": "f20c4a65-c181-4943-9db8-14ca5f530692"
      },
      "source": [
        "df.info()"
      ],
      "execution_count": 13,
      "outputs": [
        {
          "output_type": "stream",
          "text": [
            "<class 'geopandas.geodataframe.GeoDataFrame'>\n",
            "RangeIndex: 217 entries, 0 to 216\n",
            "Data columns (total 40 columns):\n",
            " #   Column      Non-Null Count  Dtype         \n",
            "---  ------      --------------  -----         \n",
            " 0   TP_NOT      217 non-null    int64         \n",
            " 1   ID_AGRAVO   217 non-null    object        \n",
            " 2   DT_NOTIFIC  217 non-null    datetime64[ns]\n",
            " 3   SEM_NOT     217 non-null    int64         \n",
            " 4   NU_ANO      217 non-null    int64         \n",
            " 5   SG_UF_NOT   217 non-null    int64         \n",
            " 6   ID_MUNICIP  217 non-null    int64         \n",
            " 7   ID_REGIONA  217 non-null    object        \n",
            " 8   ID_UNIDADE  217 non-null    int64         \n",
            " 9   DT_SIN_PRI  217 non-null    datetime64[ns]\n",
            " 10  SEM_PRI     217 non-null    int64         \n",
            " 11  DT_NASC     215 non-null    datetime64[ns]\n",
            " 12  NU_IDADE_N  217 non-null    int64         \n",
            " 13  CS_SEXO     217 non-null    object        \n",
            " 14  CS_GESTANT  217 non-null    int64         \n",
            " 15  CS_RACA     217 non-null    object        \n",
            " 16  CS_ESCOL_N  217 non-null    object        \n",
            " 17  SG_UF       217 non-null    int64         \n",
            " 18  ID_MN_RESI  217 non-null    int64         \n",
            " 19  ID_RG_RESI  217 non-null    int64         \n",
            " 20  ID_PAIS     217 non-null    int64         \n",
            " 21  DT_INVEST   0 non-null      datetime64[ns]\n",
            " 22  ID_OCUPA_N  217 non-null    object        \n",
            " 23  CLASSI_FIN  217 non-null    object        \n",
            " 24  AT_ATIVIDA  217 non-null    object        \n",
            " 25  AT_LAMINA   217 non-null    object        \n",
            " 26  AT_SINTOMA  217 non-null    object        \n",
            " 27  TPAUTOCTO   217 non-null    object        \n",
            " 28  COUFINF     217 non-null    object        \n",
            " 29  COPAISINF   217 non-null    int64         \n",
            " 30  COMUNINF    217 non-null    object        \n",
            " 31  LOC_INF     217 non-null    object        \n",
            " 32  DEXAME      217 non-null    object        \n",
            " 33  RESULT      217 non-null    object        \n",
            " 34  PMM         75 non-null     float64       \n",
            " 35  PCRUZ       217 non-null    object        \n",
            " 36  TRA_ESQUEM  217 non-null    object        \n",
            " 37  DSTRAESQUE  217 non-null    object        \n",
            " 38  DTRATA      217 non-null    object        \n",
            " 39  DT_ENCERRA  0 non-null      datetime64[ns]\n",
            "dtypes: datetime64[ns](5), float64(1), int64(14), object(20)\n",
            "memory usage: 67.9+ KB\n"
          ],
          "name": "stdout"
        }
      ]
    },
    {
      "cell_type": "code",
      "metadata": {
        "colab": {
          "base_uri": "https://localhost:8080/",
          "height": 434
        },
        "id": "qEwWO-3WzxLs",
        "outputId": "0da22562-af6b-4d85-8943-422433e8a7e6"
      },
      "source": [
        "fig, ax = plt.subplots(1, 1)\n",
        "df2 = df.groupby('ID_MUNICIP').mean()\n",
        "df2['CS_GESTANT'].plot(kind = 'bar', figsize=(8,6))"
      ],
      "execution_count": 17,
      "outputs": [
        {
          "output_type": "execute_result",
          "data": {
            "text/plain": [
              "<matplotlib.axes._subplots.AxesSubplot at 0x7fe8a9f94910>"
            ]
          },
          "metadata": {
            "tags": []
          },
          "execution_count": 17
        },
        {
          "output_type": "display_data",
          "data": {
            "image/png": "[encoded data removed]",
            "text/plain": [
              "<Figure size 576x432 with 1 Axes>"
            ]
          },
          "metadata": {
            "tags": [],
            "needs_background": "light"
          }
        }
      ]
    }
  ]
}