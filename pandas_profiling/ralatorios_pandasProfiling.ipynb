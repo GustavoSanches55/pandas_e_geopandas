{
  "nbformat": 4,
  "nbformat_minor": 0,
  "metadata": {
    "colab": {
      "name": "ralatorios_pandasProfiling.ipynb",
      "provenance": [],
      "collapsed_sections": []
    },
    "kernelspec": {
      "name": "python3",
      "display_name": "Python 3"
    },
    "language_info": {
      "name": "python"
    }
  },
  "cells": [
    {
      "cell_type": "code",
      "metadata": {
        "id": "_2v-iMYJxqxU"
      },
      "source": [
        "pip install pysus"
      ],
      "execution_count": null,
      "outputs": []
    },
    {
      "cell_type": "code",
      "metadata": {
        "id": "SzNmzEIV7YhM"
      },
      "source": [
        "pip install -U https://github.com/pandas-profiling/pandas-profiling/archive/master.zip"
      ],
      "execution_count": null,
      "outputs": []
    },
    {
      "cell_type": "code",
      "metadata": {
        "id": "Mj9Qa0ti74AW"
      },
      "source": [
        "pip install -U pandas-profiling"
      ],
      "execution_count": null,
      "outputs": []
    },
    {
      "cell_type": "code",
      "metadata": {
        "id": "zM0ksMNvydpF"
      },
      "source": [
        "from pysus.online_data import SINAN\n",
        "import pandas\n",
        "import pandas_profiling as pp\n",
        "from pandas_profiling import ProfileReport"
      ],
      "execution_count": 10,
      "outputs": []
    },
    {
      "cell_type": "code",
      "metadata": {
        "colab": {
          "base_uri": "https://localhost:8080/"
        },
        "id": "kSt0pBtB1B3n",
        "outputId": "761179af-c5dd-4da9-ac94-eac4a42ca3ce"
      },
      "source": [
        "SINAN.list_diseases()"
      ],
      "execution_count": 11,
      "outputs": [
        {
          "output_type": "execute_result",
          "data": {
            "text/plain": [
              "['Animais Peçonhentos',\n",
              " 'Botulismo',\n",
              " 'Chagas',\n",
              " 'Colera',\n",
              " 'Coqueluche',\n",
              " 'Dengue',\n",
              " 'Difteria',\n",
              " 'Esquistossomose',\n",
              " 'Febre Amarela',\n",
              " 'Febre Maculosa',\n",
              " 'Febre Tifoide',\n",
              " 'Hanseniase',\n",
              " 'Hantavirose',\n",
              " 'Hepatites Virais',\n",
              " 'Intoxicação Exógena',\n",
              " 'Leishmaniose Visceral',\n",
              " 'Leptospirose',\n",
              " 'Leishmaniose Tegumentar',\n",
              " 'Malaria',\n",
              " 'Meningite',\n",
              " 'Peste',\n",
              " 'Poliomielite',\n",
              " 'Raiva Humana',\n",
              " 'Tétano Acidental',\n",
              " 'Tétano Neonatal',\n",
              " 'Tuberculose',\n",
              " 'Violência Domestica']"
            ]
          },
          "metadata": {
            "tags": []
          },
          "execution_count": 11
        }
      ]
    },
    {
      "cell_type": "code",
      "metadata": {
        "id": "knRHaeFHyoP_"
      },
      "source": [
        "def change_types(df):\n",
        "  for columns in df.columns:\n",
        "      if columns.startswith(\"DT_\"):\n",
        "          df[columns] = df[columns].astype('datetime64[ns]')\n",
        "      elif columns == 'NU_ANO':\n",
        "          df[columns] = df[columns].astype(int)\n",
        "      elif columns == 'RESUL_HIS':\n",
        "          df[columns] = df[columns].astype(str)\n",
        "      else:\n",
        "          try:\n",
        "              df[columns] = df[columns].astype(int)\n",
        "          except:\n",
        "              try:\n",
        "                  df[columns] = df[columns].astype(float)\n",
        "              except:\n",
        "                  df[columns] = df[columns].astype(str)"
      ],
      "execution_count": 12,
      "outputs": []
    },
    {
      "cell_type": "code",
      "metadata": {
        "id": "LR-odyF5zvs_"
      },
      "source": [
        "def diseases_per_year(disease, states):\n",
        "  years = []\n",
        "  db_diseasesYear = {}\n",
        "  state_disease = {}\n",
        "\n",
        "  for state in states:\n",
        "    for item in SINAN.get_available_years(state, disease):\n",
        "      years.append(item[6:8])\n",
        "    \n",
        "    for year in years:\n",
        "      db_diseasesYear[f'{year}'] = SINAN.download(state, int(f'20{year}'), disease)\n",
        "\n",
        "    state_disease[state] = db_diseasesYear\n",
        "\n",
        "  return state_disease\n"
      ],
      "execution_count": 13,
      "outputs": []
    },
    {
      "cell_type": "code",
      "metadata": {
        "id": "IMuBa9LbzKvE"
      },
      "source": [
        "disease = 'Malaria'\n",
        "states = ['SP', 'RJ']\n",
        "\n",
        "df_sprj_malaria = diseases_per_year(disease, states)\n"
      ],
      "execution_count": 14,
      "outputs": []
    },
    {
      "cell_type": "code",
      "metadata": {
        "id": "_ArKze__2Y9_"
      },
      "source": [
        "for state in df_sprj_malaria.keys():\n",
        "  for year in df_sprj_malaria[state].keys():\n",
        "    change_types(df_sprj_malaria[state][year])"
      ],
      "execution_count": 15,
      "outputs": []
    },
    {
      "cell_type": "code",
      "metadata": {
        "id": "26_RU80N3xLa"
      },
      "source": [
        "teste = df_sprj_malaria['SP']['17']\n"
      ],
      "execution_count": 16,
      "outputs": []
    },
    {
      "cell_type": "code",
      "metadata": {
        "id": "3JEs2W4k6A0I"
      },
      "source": [
        "for state in df_sprj_malaria.keys():\n",
        "  for year in df_sprj_malaria[state].keys():\n",
        "    profile = ProfileReport(df_sprj_malaria[state][year], title=f\"Report: {disease} em {state}/20{year}\", explorative=True)\n",
        "    profile.to_file(f\"report{state}{year}.html\")"
      ],
      "execution_count": null,
      "outputs": []
    }
  ]
}